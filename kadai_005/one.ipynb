{
  "nbformat": 4,
  "nbformat_minor": 0,
  "metadata": {
    "colab": {
      "provenance": []
    },
    "kernelspec": {
      "name": "python3",
      "display_name": "Python 3"
    },
    "language_info": {
      "name": "python"
    }
  },
  "cells": [
    {
      "cell_type": "code",
      "source": [
        "up = 10    #cm\n",
        "down = 20  #cm\n",
        "high = 5   #cm\n",
        "\n",
        "print(str(((up * down) * high) / 2) + 'cm²')"
      ],
      "metadata": {
        "colab": {
          "base_uri": "https://localhost:8080/"
        },
        "id": "gI5N3VF2jNj4",
        "outputId": "0860c2ba-941e-4cfb-bc58-d188d3d3059b"
      },
      "execution_count": 2,
      "outputs": [
        {
          "output_type": "stream",
          "name": "stdout",
          "text": [
            "500.0cm²\n"
          ]
        }
      ]
    },
    {
      "cell_type": "code",
      "source": [],
      "metadata": {
        "id": "K6sM7JFpg3TT"
      },
      "execution_count": null,
      "outputs": []
    }
  ]
}