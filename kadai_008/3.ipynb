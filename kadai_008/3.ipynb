{
  "nbformat": 4,
  "nbformat_minor": 0,
  "metadata": {
    "colab": {
      "provenance": []
    },
    "kernelspec": {
      "name": "python3",
      "display_name": "Python 3"
    },
    "language_info": {
      "name": "python"
    }
  },
  "cells": [
    {
      "cell_type": "code",
      "source": [
        "import random\n",
        "\n",
        "var = random.randint(1,15)\n",
        "\n",
        "if var % 3 == 0 and var % 5 == 0:\n",
        "  print(f\"{var}FizzBuzz\")\n",
        "elif var % 3 == 0:\n",
        "    print(f\"{var}Fizz\")\n",
        "elif var % 5 == 0:\n",
        "    print(f\"{var}Buzz\")\n",
        "else:\n",
        "    print(var)"
      ],
      "metadata": {
        "colab": {
          "base_uri": "https://localhost:8080/"
        },
        "id": "geT6MjBOtZm-",
        "outputId": "1a7dcc8e-d19f-4ec2-8c65-4068efdd3b14"
      },
      "execution_count": 137,
      "outputs": [
        {
          "output_type": "stream",
          "name": "stdout",
          "text": [
            "15FizzBuzz\n"
          ]
        }
      ]
    }
  ]
}